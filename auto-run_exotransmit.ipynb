{
 "cells": [
  {
   "cell_type": "code",
   "execution_count": 1,
   "id": "bb6421b0",
   "metadata": {},
   "outputs": [],
   "source": [
    "import os \n",
    "\n",
    "file = open('/Users/saravannah/Exo_Transmit/userInput.in', 'r')\n",
    "lines = file.readlines()\n",
    "#remove new line characterlines\n",
    "lines = [l.rstrip('\\n') for l in lines]"
   ]
  },
  {
   "cell_type": "code",
   "execution_count": null,
   "id": "db823eb2",
   "metadata": {},
   "outputs": [],
   "source": []
  },
  {
   "cell_type": "code",
   "execution_count": null,
   "id": "ba422e32",
   "metadata": {},
   "outputs": [],
   "source": []
  },
  {
   "cell_type": "code",
   "execution_count": 2,
   "id": "07c50aae",
   "metadata": {},
   "outputs": [],
   "source": [
    "lines[3]='/Users/saravannah/Exo_Transmit/' #Exo_Transmit home directory\n",
    "lines[5] = '/T_P/t_p_'+str(500)+'K.dat' #TP\n",
    "lines[7] = '/Spectra/'+'earth_T='+str(500)+'K.dat' #output file"
   ]
  },
  {
   "cell_type": "code",
   "execution_count": 3,
   "id": "f8632d99",
   "metadata": {},
   "outputs": [],
   "source": [
    "temps = [300,400,500]\n",
    "outputNames = ['/Spectra'+'earth_T='+str(T)+'K' for T in temps]\n",
    "\n",
    "line_number=0\n",
    "#with open(lines[3]+'userInput.in', 'w') as f:\n",
    "with open(lines[3]+'userInput_test.txt', 'w') as f:\n",
    "    while line_number < 20: \n",
    "        #the '\\n' instructs Python to create a line break\n",
    "        f.write(lines[line_number]+'\\n')\n",
    "        line_number = line_number+1\n",
    "    #last line shouldn't have a line break after it; strip removes the '\\n'\n",
    "    f.write(lines[20])\n"
   ]
  },
  {
   "cell_type": "code",
   "execution_count": 4,
   "id": "ae0715c3",
   "metadata": {},
   "outputs": [],
   "source": [
    "#from https://stackoverflow.com/questions/2900035/changing-file-extension-in-python\n",
    "thisFile = lines[3]+'userInput_test.txt'\n",
    "base = os.path.splitext(thisFile)[0]\n",
    "os.rename(thisFile, base + \".in\")"
   ]
  },
  {
   "cell_type": "code",
   "execution_count": 5,
   "id": "25997d5a",
   "metadata": {},
   "outputs": [
    {
     "data": {
      "text/plain": [
       "32512"
      ]
     },
     "execution_count": 5,
     "metadata": {},
     "output_type": "execute_result"
    }
   ],
   "source": [
    "cmd = './Exo_Transmit'\n",
    "\n",
    "os.system(cmd)"
   ]
  },
  {
   "cell_type": "code",
   "execution_count": 6,
   "id": "ab7a4fa0",
   "metadata": {},
   "outputs": [
    {
     "name": "stdout",
     "output_type": "stream",
     "text": [
      "End of userInput.in (Do not change this line)\n"
     ]
    }
   ],
   "source": [
    "print(lines[20].strip())"
   ]
  },
  {
   "cell_type": "code",
   "execution_count": 7,
   "id": "0b16b397",
   "metadata": {},
   "outputs": [],
   "source": [
    "def append_multiple_lines(file_name, lines_to_append):\n",
    "    # Open the file in append & read mode ('a+')\n",
    "    with open(file_name, \"a+\") as file_object:\n",
    "        appendEOL = False\n",
    "        # Move read cursor to the start of file.\n",
    "        file_object.seek(0)\n",
    "        # Check if file is not empty\n",
    "        data = file_object.read(100)\n",
    "        if len(data) > 0:\n",
    "            appendEOL = True\n",
    "        # Iterate over each string in the list\n",
    "        for line in lines_to_append:\n",
    "            # If file is not empty then append '\\n' before first line for\n",
    "            # other lines always append '\\n' before appending line\n",
    "            if appendEOL == True:\n",
    "                file_object.write(\"\\n\")\n",
    "            else:\n",
    "                appendEOL = True\n",
    "            # Append element at the end of file\n",
    "            file_object.write(line)"
   ]
  },
  {
   "cell_type": "code",
   "execution_count": 8,
   "id": "a964b4c0",
   "metadata": {},
   "outputs": [],
   "source": [
    "append_multiple_lines('test_file.in', lines)"
   ]
  },
  {
   "cell_type": "code",
   "execution_count": null,
   "id": "77bda60f",
   "metadata": {},
   "outputs": [],
   "source": []
  }
 ],
 "metadata": {
  "kernelspec": {
   "display_name": "Python [conda env:root]",
   "language": "python",
   "name": "conda-root-py"
  },
  "language_info": {
   "codemirror_mode": {
    "name": "ipython",
    "version": 3
   },
   "file_extension": ".py",
   "mimetype": "text/x-python",
   "name": "python",
   "nbconvert_exporter": "python",
   "pygments_lexer": "ipython3",
   "version": "3.8.8"
  }
 },
 "nbformat": 4,
 "nbformat_minor": 5
}
