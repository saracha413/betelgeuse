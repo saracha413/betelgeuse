{
 "cells": [
  {
   "cell_type": "code",
   "execution_count": 1,
   "id": "e15ecc59",
   "metadata": {},
   "outputs": [],
   "source": [
    "import matplotlib\n",
    "import matplotlib.pyplot as plt\n",
    "import numpy as np\n",
    "\n",
    "from djs_spectra import *\n",
    "\n",
    "import os"
   ]
  },
  {
   "cell_type": "code",
   "execution_count": 3,
   "id": "283ac6d2",
   "metadata": {},
   "outputs": [],
   "source": [
    "hot_jupt_path = os.getcwd() + '/Exo_Transmit_spectra/hot_jupiters/'\n",
    "hot_jups = [os.getcwd() + '/Exo_Transmit_spectra/hot_jupiters/'+f for f in os.listdir(hot_jupt_path) if (os.path.isfile(os.path.join(hot_jupt_path, f))) and (f.find('.DS') == -1) ]\n"
   ]
  },
  {
   "cell_type": "code",
   "execution_count": 4,
   "id": "36d64855",
   "metadata": {},
   "outputs": [],
   "source": [
    "def get_Djs(planet1, planet2):\n",
    "    \n",
    "    _, plan_trans_depth1 = np.loadtxt(planet1,unpack=True)\n",
    "    _, plan_trans_depth2 = np.loadtxt(planet2,unpack=True)\n",
    "    \n",
    "    return djs(plan_trans_depth1, plan_trans_depth2)\n",
    "    "
   ]
  },
  {
   "cell_type": "code",
   "execution_count": 5,
   "id": "5cc21226",
   "metadata": {},
   "outputs": [],
   "source": [
    "earth = os.getcwd() + '/Exo_Transmit_spectra/earth.txt'\n",
    "jup = os.getcwd() + '/Exo_Transmit_spectra/Jupiter_spectrum_v2.txt'\n",
    "\n",
    "hot_jup_earth_djs = [get_Djs(hot_jup, earth) for hot_jup in hot_jups]\n",
    "hot_jup_jup_djs = [get_Djs(hot_jup, jup) for hot_jup in hot_jups]"
   ]
  },
  {
   "cell_type": "code",
   "execution_count": 6,
   "id": "5f51b79a",
   "metadata": {},
   "outputs": [
    {
     "name": "stdout",
     "output_type": "stream",
     "text": [
      "The mean Djs comparing the full spectrum of hot jupiters to Jupiter is  0.0934816169431828  with range  0.08173983287339415  to  0.10637500999760482 .\n",
      "The mean Djs comparing the full spectrum of hot jupiters to Earth is  0.14829906680370675  with range  0.09132409444775456  to  0.2558917471072808 .\n"
     ]
    }
   ],
   "source": [
    "print('The mean Djs comparing the full spectrum of hot jupiters to Jupiter is ', np.mean(hot_jup_jup_djs), ' with range ', min(hot_jup_jup_djs), ' to ', max(hot_jup_jup_djs), '.')\n",
    "print('The mean Djs comparing the full spectrum of hot jupiters to Earth is ', np.mean(hot_jup_earth_djs), ' with range ', min(hot_jup_earth_djs), ' to ', max(hot_jup_earth_djs), '.')\n"
   ]
  },
  {
   "cell_type": "code",
   "execution_count": 7,
   "id": "c3a3a690",
   "metadata": {},
   "outputs": [
    {
     "name": "stdout",
     "output_type": "stream",
     "text": [
      "[0.11670739212115777, 0.1134899123630445, 0.16864906577550304, 0.2558917471072808, 0.15648798476296, 0.13596783542798624, 0.09885654236312147, 0.17360923622510166, 0.09132409444775456, 0.17200685744315758]\n",
      "[0.08245973547603047, 0.10637500999760482, 0.08360454852681741, 0.10361875792684194, 0.08173983287339415, 0.09706306161607456, 0.10001268314565678, 0.0876100513276456, 0.10067386538105547, 0.09165862316070675]\n"
     ]
    }
   ],
   "source": [
    "print(hot_jup_earth_djs)\n",
    "\n",
    "print(hot_jup_jup_djs)"
   ]
  },
  {
   "cell_type": "code",
   "execution_count": 14,
   "id": "88e3b4ec",
   "metadata": {},
   "outputs": [
    {
     "data": {
      "text/plain": [
       "<matplotlib.legend.Legend at 0x117157490>"
      ]
     },
     "execution_count": 14,
     "metadata": {},
     "output_type": "execute_result"
    },
    {
     "data": {
      "image/png": "[encoded data removed]",
      "text/plain": [
       "<Figure size 432x288 with 1 Axes>"
      ]
     },
     "metadata": {
      "needs_background": "light"
     },
     "output_type": "display_data"
    }
   ],
   "source": [
    "plt.hist(hot_jup_jup_djs, bins='auto', label='Djs vs Jupiter', alpha=0.5)\n",
    "plt.hist(hot_jup_earth_djs, bins='auto', label='Djs vs Earth', alpha=0.5)\n",
    "plt.xlabel('Djs comparing hot Jupiter to Earth or Jupiter')\n",
    "plt.legend()"
   ]
  },
  {
   "cell_type": "code",
   "execution_count": null,
   "id": "54649357",
   "metadata": {},
   "outputs": [],
   "source": []
  }
 ],
 "metadata": {
  "kernelspec": {
   "display_name": "Python 3 (ipykernel)",
   "language": "python",
   "name": "python3"
  },
  "language_info": {
   "codemirror_mode": {
    "name": "ipython",
    "version": 3
   },
   "file_extension": ".py",
   "mimetype": "text/x-python",
   "name": "python",
   "nbconvert_exporter": "python",
   "pygments_lexer": "ipython3",
   "version": "3.9.8"
  }
 },
 "nbformat": 4,
 "nbformat_minor": 5
}
