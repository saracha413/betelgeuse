{
 "cells": [
  {
   "cell_type": "code",
   "execution_count": 1,
   "id": "suburban-heater",
   "metadata": {},
   "outputs": [],
   "source": [
    "import numpy as np\n",
    "import scipy as sp\n",
    "from scipy.fft import fft\n",
    "from scipy.interpolate import interp1d\n",
    "import matplotlib\n",
    "import matplotlib.pyplot as plt\n",
    "\n",
    "%matplotlib inline"
   ]
  },
  {
   "cell_type": "code",
   "execution_count": 2,
   "id": "invisible-mitchell",
   "metadata": {},
   "outputs": [],
   "source": [
    "#W/m^2*Ansgstrom, microns\n",
    "earth_wave, earth_flux = np.loadtxt('CatalogofSolarSystemObjects/Spectra/NativeResolution/Sun/Earth_Lundock081121_Spec_Sun_HiRes.txt', unpack=True)\n",
    "mars_wave, mars_flux = np.loadtxt('CatalogofSolarSystemObjects/Spectra/NativeResolution/Sun/Mars_McCord1971_Spec_Sun_HiRes.txt', unpack=True)\n",
    "jupiter_wave, jupiter_flux = np.loadtxt('CatalogofSolarSystemObjects/Spectra/NativeResolution/Sun/Jupiter_Lundock080507_Spec_Sun_HiRes.txt', unpack=True)"
   ]
  },
  {
   "cell_type": "code",
   "execution_count": 3,
   "id": "coastal-gibraltar",
   "metadata": {},
   "outputs": [],
   "source": [
    "#interpolate spectra\n",
    "int_earth = interp1d(earth_wave, earth_flux, kind='nearest')\n",
    "int_mars = interp1d(mars_wave, mars_flux, kind='nearest')\n",
    "int_jupiter = interp1d(jupiter_wave, jupiter_flux, kind='nearest')"
   ]
  },
  {
   "cell_type": "code",
   "execution_count": 4,
   "id": "usual-cameroon",
   "metadata": {},
   "outputs": [],
   "source": [
    "#where to truncate wavelength\n",
    "start = max(min(earth_wave), min(mars_wave), min(jupiter_wave))\n",
    "stop = min(max(earth_wave), max(mars_wave), max(jupiter_wave))\n",
    "\n",
    "wave_new = np.linspace(start, stop, num=1000)"
   ]
  },
  {
   "cell_type": "code",
   "execution_count": null,
   "id": "affected-friendship",
   "metadata": {},
   "outputs": [],
   "source": []
  },
  {
   "cell_type": "code",
   "execution_count": 5,
   "id": "double-hypothetical",
   "metadata": {},
   "outputs": [
    {
     "data": {
      "text/plain": [
       "[<matplotlib.lines.Line2D at 0x7fb39a106190>]"
      ]
     },
     "execution_count": 5,
     "metadata": {},
     "output_type": "execute_result"
    },
    {
     "data": {
      "image/png": "[encoded data removed]",
      "text/plain": [
       "<Figure size 432x288 with 1 Axes>"
      ]
     },
     "metadata": {
      "needs_background": "light"
     },
     "output_type": "display_data"
    }
   ],
   "source": [
    "plt.plot(earth_wave, earth_flux, label='Earth')\n",
    "plt.plot(wave_new, int_earth(wave_new), label='interp', linestyle='--')"
   ]
  },
  {
   "cell_type": "code",
   "execution_count": 6,
   "id": "imperial-promise",
   "metadata": {},
   "outputs": [],
   "source": [
    "#take Fourier transform of spectrum\n",
    "pow1 = fft(int_earth(wave_new))\n",
    "pow2 = fft(int_mars(wave_new))\n",
    " \n",
    "#get modal fractions\n",
    "p, q = pow1*np.conj(pow1)/np.nansum(pow1*np.conj(pow1)), pow2*np.conj(pow2)/np.nansum(pow2*np.conj(pow2))\n",
    "p,q = np.real(p), np.real(q) #force Python to drop the \"+0j\" part\n",
    "    \n",
    "#get D_JS and D_JS density of spectra\n",
    "r = 1/2 * (p+q)\n",
    "\n",
    "Djs = 1/2 * np.nansum(p*np.log(p/r)) + 1/2 * np.nansum(1*np.log(q/r))\n",
    "\n",
    "Djs_dens = 1/2 * p*np.log(p/r) + 1/2 * 1*np.log(q/r)"
   ]
  },
  {
   "cell_type": "code",
   "execution_count": 7,
   "id": "recovered-disease",
   "metadata": {},
   "outputs": [
    {
     "name": "stderr",
     "output_type": "stream",
     "text": [
      "/opt/anaconda3/envs/axiclasspy/lib/python3.9/site-packages/numpy/core/_asarray.py:171: ComplexWarning: Casting complex values to real discards the imaginary part\n",
      "  return array(a, dtype, copy=False, order=order, subok=True)\n"
     ]
    },
    {
     "data": {
      "image/png": "[encoded data removed]",
      "text/plain": [
       "<Figure size 432x288 with 1 Axes>"
      ]
     },
     "metadata": {
      "needs_background": "light"
     },
     "output_type": "display_data"
    }
   ],
   "source": [
    "c = 3e8\n",
    "freq = c / (wave_new*1e6)\n",
    "time = fft(freq)\n",
    "plt.scatter(time, Djs_dens,s=5)\n",
    "plt.xscale('log')\n",
    "plt.yscale('log')"
   ]
  },
  {
   "cell_type": "code",
   "execution_count": 68,
   "id": "narrow-samoa",
   "metadata": {},
   "outputs": [
    {
     "name": "stdout",
     "output_type": "stream",
     "text": [
      "1000\n"
     ]
    }
   ],
   "source": [
    "print(len(time))"
   ]
  },
  {
   "cell_type": "code",
   "execution_count": 12,
   "id": "heated-silly",
   "metadata": {},
   "outputs": [
    {
     "data": {
      "text/plain": [
       "<matplotlib.collections.PathCollection at 0x7fb39a292dc0>"
      ]
     },
     "execution_count": 12,
     "metadata": {},
     "output_type": "execute_result"
    },
    {
     "data": {
      "image/png": "[encoded data removed]",
      "text/plain": [
       "<Figure size 432x288 with 1 Axes>"
      ]
     },
     "metadata": {
      "needs_background": "light"
     },
     "output_type": "display_data"
    }
   ],
   "source": [
    "wavenumber = 2*np.pi/wave_new\n",
    "\n",
    "plt.xscale('log')\n",
    "plt.yscale('log')\n",
    "\n",
    "plt.scatter(wavenumber, Djs_dens)"
   ]
  },
  {
   "cell_type": "code",
   "execution_count": null,
   "id": "88d60454",
   "metadata": {},
   "outputs": [],
   "source": []
  }
 ],
 "metadata": {
  "kernelspec": {
   "display_name": "Python 3",
   "language": "python",
   "name": "python3"
  },
  "language_info": {
   "codemirror_mode": {
    "name": "ipython",
    "version": 3
   },
   "file_extension": ".py",
   "mimetype": "text/x-python",
   "name": "python",
   "nbconvert_exporter": "python",
   "pygments_lexer": "ipython3",
   "version": "3.9.2"
  }
 },
 "nbformat": 4,
 "nbformat_minor": 5
}
