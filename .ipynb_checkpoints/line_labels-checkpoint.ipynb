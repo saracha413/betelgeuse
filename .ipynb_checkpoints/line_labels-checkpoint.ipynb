{
 "cells": [
  {
   "cell_type": "code",
   "execution_count": 27,
   "id": "eac2af32",
   "metadata": {},
   "outputs": [],
   "source": [
    "import matplotlib.pyplot as plt\n",
    "import numpy as np\n",
    "\n",
    "%matplotlib inline"
   ]
  },
  {
   "cell_type": "code",
   "execution_count": null,
   "id": "9e52cf93",
   "metadata": {},
   "outputs": [],
   "source": []
  },
  {
   "cell_type": "code",
   "execution_count": 28,
   "id": "fcbdc507",
   "metadata": {},
   "outputs": [],
   "source": [
    "#constants\n",
    "c=2.99792e8*1e6 "
   ]
  },
  {
   "cell_type": "code",
   "execution_count": 29,
   "id": "619884fb",
   "metadata": {},
   "outputs": [],
   "source": [
    "earth_infile = '/Users/saravannah/AstroSpec/Exo_Transmit_spectra/earth.txt'\n",
    "earth_wave, earth_flux = np.loadtxt(earth_infile, unpack=True, skiprows=2)\n",
    "earth_wave = earth_wave * 1e6"
   ]
  },
  {
   "cell_type": "code",
   "execution_count": 30,
   "id": "d03df031",
   "metadata": {},
   "outputs": [],
   "source": [
    "#this is a big file - will take a minute to load it in\n",
    "hitran_infile = '/Users/saravannah/AstroSpec/Kempton_line_lists/618ec803.out.txt'\n",
    "nu_spec, S_spec, ID_spec, _, _, _, _, _ = np.loadtxt(hitran_infile, unpack=True)"
   ]
  },
  {
   "cell_type": "code",
   "execution_count": 31,
   "id": "8980667c",
   "metadata": {},
   "outputs": [
    {
     "name": "stdout",
     "output_type": "stream",
     "text": [
      "1.179e-17 1.01e-99\n"
     ]
    }
   ],
   "source": [
    "print(max(S_spec), min(S_spec))\n",
    "S_threshold = 1e-20\n",
    "hitran_mini = {'nu':[], 'ID':[]}\n",
    "for i in range(len(nu_spec)):\n",
    "    if S_spec[i]>S_threshold:\n",
    "        hitran_mini['nu'].append(nu_spec[i])\n",
    "        hitran_mini['ID'].append(ID_spec[i])\n",
    "        \n"
   ]
  },
  {
   "cell_type": "code",
   "execution_count": 32,
   "id": "71cf95f2",
   "metadata": {},
   "outputs": [],
   "source": [
    "#convert from wavenumber (in inverse cm) to wavelength (in um)\n",
    "def nu_to_lambda(nu):\n",
    "    return 1e3*np.reciprocal(nu)"
   ]
  },
  {
   "cell_type": "code",
   "execution_count": 33,
   "id": "d2c9695b",
   "metadata": {},
   "outputs": [],
   "source": [
    "def get_name(ID):\n",
    "    names = {'1':'H2O', '2':'CO2', '3':'O3','4':'N2O','5':'CO','6':'CH4','7':'O2','8':'NO','9':'SO2',\n",
    "           '10':'NO2','11':'NH3','12':'HNO3','13':'OH','14':'HF','15':'HCl','16':'HBr','17':'HI','18':'ClO',\n",
    "           '19':'OCS','20':'H2CO','21':'HOCl','22':'N2','23':'HCN','24':'CH3Cl','25':'H2O2','26':'C2H2',\n",
    "           '27':'C2H6','28':'PH3', '29':'COF3', '30':'SF6','31':'H2S','32':'HCOOH','33':'HO2','34':'O',\n",
    "           '35':'ClONO2','36':'NO+','37':'HOBr','38':'C2H4','39':'CH3OH','40':'CH3Br','41':'CH3CN','42':'CF4',\n",
    "           '43':'C4H2','44':'HC3N','45':'H2','46':'CS','47':'SO3','48':'C2N2','49':'COCl2','50':'SO','51':'CH3F',\n",
    "           '52':'GeH4','53':'CS2','54':'CH3I','55':'NF3'}\n",
    "    molec_name = names[str(int(ID))]\n",
    "    return molec_name"
   ]
  },
  {
   "cell_type": "code",
   "execution_count": 34,
   "id": "0e6d0daf",
   "metadata": {},
   "outputs": [
    {
     "data": {
      "text/plain": [
       "Text(0, 0.5, 'Wavelength (um)')"
      ]
     },
     "execution_count": 34,
     "metadata": {},
     "output_type": "execute_result"
    },
    {
     "data": {
      "image/png": "[encoded data removed]",
      "text/plain": [
       "<Figure size 432x288 with 1 Axes>"
      ]
     },
     "metadata": {
      "needs_background": "light"
     },
     "output_type": "display_data"
    }
   ],
   "source": [
    "plt.plot(earth_wave, earth_flux)\n",
    "#this also takes a minute - drawing vertical lines is expensive in Python\n",
    "for i,mywave in enumerate(hitran_mini['nu']):\n",
    "    plt.axvline(nu_to_lambda(hitran_mini['nu'][i]),color='C1')\n",
    "    plt.text(nu_to_lambda(hitran_mini['nu'][i]),0.02,get_name(hitran_mini['ID'][i]))\n",
    "\n",
    "plt.xscale('log')\n",
    "plt.ylabel('Wavelength (um)')\n",
    "#plt.xlim([0,5])"
   ]
  },
  {
   "cell_type": "code",
   "execution_count": null,
   "id": "5762f0c3",
   "metadata": {},
   "outputs": [],
   "source": []
  }
 ],
 "metadata": {
  "kernelspec": {
   "display_name": "specpy",
   "language": "python",
   "name": "specpy"
  },
  "language_info": {
   "codemirror_mode": {
    "name": "ipython",
    "version": 3
   },
   "file_extension": ".py",
   "mimetype": "text/x-python",
   "name": "python",
   "nbconvert_exporter": "python",
   "pygments_lexer": "ipython3",
   "version": "3.9.7"
  }
 },
 "nbformat": 4,
 "nbformat_minor": 5
}
