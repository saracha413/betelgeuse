{
 "cells": [
  {
   "cell_type": "code",
   "execution_count": 14,
   "id": "bb6421b0",
   "metadata": {},
   "outputs": [],
   "source": [
    "import os \n",
    "\n",
    "file = open('/Users/saravannah/Exo_Transmit/userInput.in', 'r')\n",
    "lines = file.readlines()\n",
    "#remove new line characterlines\n",
    "lines = [l.rstrip('\\n') for l in lines]"
   ]
  },
  {
   "cell_type": "code",
   "execution_count": 15,
   "id": "89e8ea80",
   "metadata": {},
   "outputs": [],
   "source": [
    "user_input = {'home':lines[3],'TP':lines[5], 'EOS':lines[7], 'outputFile':lines[9], 'grav':lines[11], 'planetRad':lines[13],\n",
    "             'starRad':lines[15], 'cloudPress':lines[17], 'Rayleigh':lines[19]}\n",
    "\n",
    "\n",
    "names = ['home','TP','EOS','outputFile','grav','planetRad', 'starRad', 'cloudPress','Rayleigh']"
   ]
  },
  {
   "cell_type": "code",
   "execution_count": 16,
   "id": "ba422e32",
   "metadata": {},
   "outputs": [
    {
     "name": "stdout",
     "output_type": "stream",
     "text": [
      "21\n",
      "1.0\n",
      "/Spectra/default.dat\n"
     ]
    }
   ],
   "source": [
    "print(len(lines))\n",
    "print(lines[19])\n",
    "\n",
    "\n",
    "foo = user_input.values()\n",
    "print(list(foo)[3])"
   ]
  },
  {
   "cell_type": "code",
   "execution_count": 10,
   "id": "07c50aae",
   "metadata": {},
   "outputs": [],
   "source": [
    "user_input['home']='/Users/saravannah/Exo_Transmit/'\n",
    "\n",
    "user_input['TP'] = '/T_P/t_p_'+str(500)+'K.dat'\n",
    "user_input['outputFile'] = '/Spectra/'+'earth_T='+str(500)+'K.dat'"
   ]
  },
  {
   "cell_type": "code",
   "execution_count": 11,
   "id": "0ffc644b",
   "metadata": {},
   "outputs": [],
   "source": [
    "def convert_dict_to_lines(input_dict, input_lines):\n",
    "    vals = list(input_dict.values())\n",
    "    for i in range(len(vals)):\n",
    "        #only changes the lines in user_input\n",
    "        input_lines[2*i+1] = vals[i]\n",
    "        \n",
    "    return input_lines"
   ]
  },
  {
   "cell_type": "code",
   "execution_count": 12,
   "id": "f8632d99",
   "metadata": {},
   "outputs": [],
   "source": [
    "temps = [300,400,500]\n",
    "outputNames = ['/Spectra'+'earth_T='+str(T)+'K' for T in temps]\n",
    "\n",
    "#for T in temps:\n",
    "\n",
    "\n",
    "lines = convert_dict_to_lines(user_input, lines)\n",
    "\n",
    "line_number=0\n",
    "with open('/Users/saravannah/Exo_Transmit/userInput.in', 'w') as f:\n",
    "    while line_number < 20: \n",
    "        #the '\\n' instructs Python to create a line break\n",
    "        f.write(lines[line_number]+'\\n')\n",
    "        line_number = line_number+1\n",
    "    #last line shouldn't have a line break after it; strip removes the '\\n'\n",
    "    f.write(lines[20])\n",
    "f.close()"
   ]
  },
  {
   "cell_type": "code",
   "execution_count": 13,
   "id": "25997d5a",
   "metadata": {},
   "outputs": [
    {
     "data": {
      "text/plain": [
       "32512"
      ]
     },
     "execution_count": 13,
     "metadata": {},
     "output_type": "execute_result"
    }
   ],
   "source": [
    "cmd = './Exo_Transmit'\n",
    "\n",
    "os.system(cmd)"
   ]
  },
  {
   "cell_type": "code",
   "execution_count": 13,
   "id": "ab7a4fa0",
   "metadata": {},
   "outputs": [
    {
     "name": "stdout",
     "output_type": "stream",
     "text": [
      "End of userInput.in (Do not change this line)\n"
     ]
    }
   ],
   "source": [
    "print(lines[20].strip())"
   ]
  },
  {
   "cell_type": "code",
   "execution_count": null,
   "id": "b794f5a6",
   "metadata": {},
   "outputs": [],
   "source": []
  }
 ],
 "metadata": {
  "kernelspec": {
   "display_name": "Python [conda env:root]",
   "language": "python",
   "name": "conda-root-py"
  },
  "language_info": {
   "codemirror_mode": {
    "name": "ipython",
    "version": 3
   },
   "file_extension": ".py",
   "mimetype": "text/x-python",
   "name": "python",
   "nbconvert_exporter": "python",
   "pygments_lexer": "ipython3",
   "version": "3.8.8"
  }
 },
 "nbformat": 4,
 "nbformat_minor": 5
}
